{
 "cells": [
  {
   "cell_type": "code",
   "execution_count": 1,
   "id": "3d10d8db",
   "metadata": {},
   "outputs": [],
   "source": [
    "import cv2\n",
    "import uuid\n",
    "import os\n",
    "import time"
   ]
  },
  {
   "cell_type": "code",
   "execution_count": 6,
   "id": "a6b33702",
   "metadata": {},
   "outputs": [],
   "source": [
    "labels = ['thumbsup', 'thumbsdown', 'thankyou', 'livelong']\n",
    "number_imgs = 5"
   ]
  },
  {
   "cell_type": "code",
   "execution_count": 7,
   "id": "9424fdd0",
   "metadata": {},
   "outputs": [],
   "source": [
    "IMAGES_PATH = os.path.join('pictures', 'workspace', 'images', 'collectedimages')"
   ]
  },
  {
   "cell_type": "code",
   "execution_count": 8,
   "id": "a9f16f57",
   "metadata": {},
   "outputs": [],
   "source": [
    "if not os.path.exists(IMAGES_PATH):\n",
    "    if os.name == 'posix':\n",
    "        !mkdir -p {IMAGES_PATH}\n",
    "    if os.name == 'nt':\n",
    "        !mkdir {IMAGES_PATH}\n",
    "\n",
    "for label in labels:\n",
    "    path = os.path.join(IMAGES_PATH, label)\n",
    "    if not os.path.exists(path):\n",
    "        !mkdir {path}"
   ]
  },
  {
   "cell_type": "code",
   "execution_count": 9,
   "id": "9cf9bee8",
   "metadata": {},
   "outputs": [
    {
     "name": "stdout",
     "output_type": "stream",
     "text": [
      "Collecting images for thumbsup\n",
      "Collecting image 0\n",
      "Collecting image 1\n",
      "Collecting image 2\n",
      "Collecting image 3\n",
      "Collecting image 4\n"
     ]
    }
   ],
   "source": [
    "for label in labels:\n",
    "    cap = cv2.VideoCapture(0)\n",
    "    print('Collecting images for {}'.format(label))\n",
    "    time.sleep(5)\n",
    "    for imgnum in range(number_imgs):\n",
    "        print('Collecting image {}'.format(imgnum))\n",
    "        ret, frame = cap.read()\n",
    "        imgname = os.path.join(IMAGES_PATH,label,label+'.'+'{}.jpg'.format(str(uuid.uuid1())))\n",
    "        cv2.imwrite(imgname, frame)\n",
    "        cv2.imshow('frame', frame)\n",
    "        time.sleep(2)\n",
    "\n",
    "        if cv2.waitKey(1) & 0xFF == ord('q'):\n",
    "            break\n",
    "cap.release()\n",
    "cv2.destroyAllWindows()"
   ]
  },
  {
   "cell_type": "code",
   "execution_count": 11,
   "id": "407e197b",
   "metadata": {},
   "outputs": [],
   "source": [
    "LABELING_PATH = os.path.join('labelimg')"
   ]
  },
  {
   "cell_type": "code",
   "execution_count": 12,
   "id": "991214a7",
   "metadata": {},
   "outputs": [
    {
     "name": "stderr",
     "output_type": "stream",
     "text": [
      "Cloning into '{LABELIMG_PATH}'...\n",
      "Updating files:  41% (44/107)\n",
      "Updating files:  42% (45/107)\n",
      "Updating files:  43% (47/107)\n",
      "Updating files:  44% (48/107)\n",
      "Updating files:  45% (49/107)\n",
      "Updating files:  46% (50/107)\n",
      "Updating files:  47% (51/107)\n",
      "Updating files:  48% (52/107)\n",
      "Updating files:  49% (53/107)\n",
      "Updating files:  50% (54/107)\n",
      "Updating files:  51% (55/107)\n",
      "Updating files:  52% (56/107)\n",
      "Updating files:  53% (57/107)\n",
      "Updating files:  54% (58/107)\n",
      "Updating files:  55% (59/107)\n",
      "Updating files:  56% (60/107)\n",
      "Updating files:  57% (61/107)\n",
      "Updating files:  58% (63/107)\n",
      "Updating files:  59% (64/107)\n",
      "Updating files:  60% (65/107)\n",
      "Updating files:  61% (66/107)\n",
      "Updating files:  62% (67/107)\n",
      "Updating files:  63% (68/107)\n",
      "Updating files:  64% (69/107)\n",
      "Updating files:  65% (70/107)\n",
      "Updating files:  66% (71/107)\n",
      "Updating files:  67% (72/107)\n",
      "Updating files:  68% (73/107)\n",
      "Updating files:  69% (74/107)\n",
      "Updating files:  70% (75/107)\n",
      "Updating files:  71% (76/107)\n",
      "Updating files:  72% (78/107)\n",
      "Updating files:  73% (79/107)\n",
      "Updating files:  74% (80/107)\n",
      "Updating files:  75% (81/107)\n",
      "Updating files:  76% (82/107)\n",
      "Updating files:  77% (83/107)\n",
      "Updating files:  78% (84/107)\n",
      "Updating files:  79% (85/107)\n",
      "Updating files:  80% (86/107)\n",
      "Updating files:  81% (87/107)\n",
      "Updating files:  82% (88/107)\n",
      "Updating files:  83% (89/107)\n",
      "Updating files:  84% (90/107)\n",
      "Updating files:  85% (91/107)\n",
      "Updating files:  86% (93/107)\n",
      "Updating files:  87% (94/107)\n",
      "Updating files:  88% (95/107)\n",
      "Updating files:  89% (96/107)\n",
      "Updating files:  90% (97/107)\n",
      "Updating files:  91% (98/107)\n",
      "Updating files:  92% (99/107)\n",
      "Updating files:  93% (100/107)\n",
      "Updating files:  94% (101/107)\n",
      "Updating files:  95% (102/107)\n",
      "Updating files:  96% (103/107)\n",
      "Updating files:  97% (104/107)\n",
      "Updating files:  98% (105/107)\n",
      "Updating files:  99% (106/107)\n",
      "Updating files: 100% (107/107)\n",
      "Updating files: 100% (107/107), done.\n"
     ]
    }
   ],
   "source": [
    "if not os.path.exists(LABELING_PATH):\n",
    "    !mkdir {LABELING_PATH}\n",
    "    !git clone https://github.com/tzutalin/labelImg {LABELIMG_PATH}"
   ]
  },
  {
   "cell_type": "code",
   "execution_count": 13,
   "id": "262d7efe",
   "metadata": {},
   "outputs": [],
   "source": [
    "if os.name == 'posix':\n",
    "    !cd {LABELIMG_PATH} && make qt5py3\n",
    "if os.name =='nt':\n",
    "    !cd {LABELIMG_PATH} && pyrcc5 -o libs/resources.py resources.qrc"
   ]
  },
  {
   "cell_type": "code",
   "execution_count": 14,
   "id": "8798ac92",
   "metadata": {},
   "outputs": [
    {
     "name": "stdout",
     "output_type": "stream",
     "text": [
      "Image:D:\\Project\\Tensorflow\\Project OD\\pictures\\workspace\\images\\collectedimages\\livelong\\livelong.ea3e0f7c-6484-11ec-99d0-f4f26df73d01.jpg -> Annotation:D:/Project/Tensorflow/Project OD/pictures/workspace/images/collectedimages/livelong/livelong.ea3e0f7c-6484-11ec-99d0-f4f26df73d01.xml\n",
      "Image:D:\\Project\\Tensorflow\\Project OD\\pictures\\workspace\\images\\collectedimages\\livelong\\livelong.ea3e0f7c-6484-11ec-99d0-f4f26df73d01.jpg -> Annotation:D:/Project/Tensorflow/Project OD/pictures/workspace/images/collectedimages/livelong/livelong.ea3e0f7c-6484-11ec-99d0-f4f26df73d01.xml\n",
      "Image:D:\\Project\\Tensorflow\\Project OD\\pictures\\workspace\\images\\collectedimages\\livelong\\livelong.eb730161-6484-11ec-b0ca-f4f26df73d01.jpg -> Annotation:D:/Project/Tensorflow/Project OD/pictures/workspace/images/collectedimages/livelong/livelong.eb730161-6484-11ec-b0ca-f4f26df73d01.xml\n",
      "Cancel creation.\n",
      "Image:D:\\Project\\Tensorflow\\Project OD\\pictures\\workspace\\images\\collectedimages\\livelong\\livelong.eca70bd3-6484-11ec-b19e-f4f26df73d01.jpg -> Annotation:D:/Project/Tensorflow/Project OD/pictures/workspace/images/collectedimages/livelong/livelong.eca70bd3-6484-11ec-b19e-f4f26df73d01.xml\n",
      "Image:D:\\Project\\Tensorflow\\Project OD\\pictures\\workspace\\images\\collectedimages\\livelong\\livelong.edddcdeb-6484-11ec-9ddf-f4f26df73d01.jpg -> Annotation:D:/Project/Tensorflow/Project OD/pictures/workspace/images/collectedimages/livelong/livelong.edddcdeb-6484-11ec-9ddf-f4f26df73d01.xml\n",
      "Image:D:\\Project\\Tensorflow\\Project OD\\pictures\\workspace\\images\\collectedimages\\livelong\\livelong.ef157ba7-6484-11ec-b24f-f4f26df73d01.jpg -> Annotation:D:/Project/Tensorflow/Project OD/pictures/workspace/images/collectedimages/livelong/livelong.ef157ba7-6484-11ec-b24f-f4f26df73d01.xml\n",
      "Image:D:\\Project\\Tensorflow\\Project OD\\pictures\\workspace\\images\\collectedimages\\thankyou\\thankyou.de720ee0-6484-11ec-87f8-f4f26df73d01.jpg -> Annotation:D:/Project/Tensorflow/Project OD/pictures/workspace/images/collectedimages/thankyou/thankyou.de720ee0-6484-11ec-87f8-f4f26df73d01.xml\n",
      "Image:D:\\Project\\Tensorflow\\Project OD\\pictures\\workspace\\images\\collectedimages\\thankyou\\thankyou.dfa92e8a-6484-11ec-811b-f4f26df73d01.jpg -> Annotation:D:/Project/Tensorflow/Project OD/pictures/workspace/images/collectedimages/thankyou/thankyou.dfa92e8a-6484-11ec-811b-f4f26df73d01.xml\n",
      "Image:D:\\Project\\Tensorflow\\Project OD\\pictures\\workspace\\images\\collectedimages\\thankyou\\thankyou.e0dddbe6-6484-11ec-b633-f4f26df73d01.jpg -> Annotation:D:/Project/Tensorflow/Project OD/pictures/workspace/images/collectedimages/thankyou/thankyou.e0dddbe6-6484-11ec-b633-f4f26df73d01.xml\n",
      "Cancel creation.\n",
      "Image:D:\\Project\\Tensorflow\\Project OD\\pictures\\workspace\\images\\collectedimages\\thankyou\\thankyou.e34bc92b-6484-11ec-a8bc-f4f26df73d01.jpg -> Annotation:D:/Project/Tensorflow/Project OD/pictures/workspace/images/collectedimages/thankyou/thankyou.e34bc92b-6484-11ec-a8bc-f4f26df73d01.xml\n",
      "Image:D:\\Project\\Tensorflow\\Project OD\\pictures\\workspace\\images\\collectedimages\\thankyou\\thankyou.e2148d6a-6484-11ec-8358-f4f26df73d01.jpg -> Annotation:D:/Project/Tensorflow/Project OD/pictures/workspace/images/collectedimages/thankyou/thankyou.e2148d6a-6484-11ec-8358-f4f26df73d01.xml\n",
      "Image:D:\\Project\\Tensorflow\\Project OD\\pictures\\workspace\\images\\collectedimages\\thumbsdown\\thumbsdown.d3d4872a-6484-11ec-894c-f4f26df73d01.jpg -> Annotation:D:/Project/Tensorflow/Project OD/pictures/workspace/images/collectedimages/thumbsdown/thumbsdown.d3d4872a-6484-11ec-894c-f4f26df73d01.xml\n",
      "Image:D:\\Project\\Tensorflow\\Project OD\\pictures\\workspace\\images\\collectedimages\\thumbsdown\\thumbsdown.d29f311a-6484-11ec-a3d3-f4f26df73d01.jpg -> Annotation:D:/Project/Tensorflow/Project OD/pictures/workspace/images/collectedimages/thumbsdown/thumbsdown.d29f311a-6484-11ec-a3d3-f4f26df73d01.xml\n",
      "Image:D:\\Project\\Tensorflow\\Project OD\\pictures\\workspace\\images\\collectedimages\\thumbsdown\\thumbsdown.d50a9643-6484-11ec-8a08-f4f26df73d01.jpg -> Annotation:D:/Project/Tensorflow/Project OD/pictures/workspace/images/collectedimages/thumbsdown/thumbsdown.d50a9643-6484-11ec-8a08-f4f26df73d01.xml\n",
      "Image:D:\\Project\\Tensorflow\\Project OD\\pictures\\workspace\\images\\collectedimages\\thumbsdown\\thumbsdown.d7782e5f-6484-11ec-a70a-f4f26df73d01.jpg -> Annotation:D:/Project/Tensorflow/Project OD/pictures/workspace/images/collectedimages/thumbsdown/thumbsdown.d7782e5f-6484-11ec-a70a-f4f26df73d01.xml\n",
      "Cancel creation.\n",
      "Image:D:\\Project\\Tensorflow\\Project OD\\pictures\\workspace\\images\\collectedimages\\thumbsdown\\thumbsdown.d6423622-6484-11ec-bb80-f4f26df73d01.jpg -> Annotation:D:/Project/Tensorflow/Project OD/pictures/workspace/images/collectedimages/thumbsdown/thumbsdown.d6423622-6484-11ec-bb80-f4f26df73d01.xml\n",
      "Cancel creation.\n",
      "Image:D:\\Project\\Tensorflow\\Project OD\\pictures\\workspace\\images\\collectedimages\\thumbsup\\thumbsup.1a106928-6485-11ec-871c-f4f26df73d01.jpg -> Annotation:D:/Project/Tensorflow/Project OD/pictures/workspace/images/collectedimages/thumbsup/thumbsup.1a106928-6485-11ec-871c-f4f26df73d01.xml\n",
      "Cancel creation.\n",
      "Image:D:\\Project\\Tensorflow\\Project OD\\pictures\\workspace\\images\\collectedimages\\thumbsup\\thumbsup.1b444f19-6485-11ec-9437-f4f26df73d01.jpg -> Annotation:D:/Project/Tensorflow/Project OD/pictures/workspace/images/collectedimages/thumbsup/thumbsup.1b444f19-6485-11ec-9437-f4f26df73d01.xml\n",
      "Image:D:\\Project\\Tensorflow\\Project OD\\pictures\\workspace\\images\\collectedimages\\thumbsup\\thumbsup.1c7a8f22-6485-11ec-b62c-f4f26df73d01.jpg -> Annotation:D:/Project/Tensorflow/Project OD/pictures/workspace/images/collectedimages/thumbsup/thumbsup.1c7a8f22-6485-11ec-b62c-f4f26df73d01.xml\n",
      "Image:D:\\Project\\Tensorflow\\Project OD\\pictures\\workspace\\images\\collectedimages\\thumbsup\\thumbsup.1db1e4e5-6485-11ec-abb1-f4f26df73d01.jpg -> Annotation:D:/Project/Tensorflow/Project OD/pictures/workspace/images/collectedimages/thumbsup/thumbsup.1db1e4e5-6485-11ec-abb1-f4f26df73d01.xml\n",
      "Image:D:\\Project\\Tensorflow\\Project OD\\pictures\\workspace\\images\\collectedimages\\thumbsup\\thumbsup.18d662e8-6485-11ec-af6e-f4f26df73d01.jpg -> Annotation:D:/Project/Tensorflow/Project OD/pictures/workspace/images/collectedimages/thumbsup/thumbsup.18d662e8-6485-11ec-af6e-f4f26df73d01.xml\n",
      "Image:D:\\Project\\Tensorflow\\Project OD\\pictures\\workspace\\images\\collectedimages\\thumbsup\\thumbsup.c93dee7b-6484-11ec-a25b-f4f26df73d01.jpg -> Annotation:D:/Project/Tensorflow/Project OD/pictures/workspace/images/collectedimages/thumbsup/thumbsup.c93dee7b-6484-11ec-a25b-f4f26df73d01.xml\n",
      "Image:D:\\Project\\Tensorflow\\Project OD\\pictures\\workspace\\images\\collectedimages\\thumbsup\\thumbsup.ca75d392-6484-11ec-87d6-f4f26df73d01.jpg -> Annotation:D:/Project/Tensorflow/Project OD/pictures/workspace/images/collectedimages/thumbsup/thumbsup.ca75d392-6484-11ec-87d6-f4f26df73d01.xml\n",
      "Image:D:\\Project\\Tensorflow\\Project OD\\pictures\\workspace\\images\\collectedimages\\thumbsup\\thumbsup.cbaa2272-6484-11ec-a4a1-f4f26df73d01.jpg -> Annotation:D:/Project/Tensorflow/Project OD/pictures/workspace/images/collectedimages/thumbsup/thumbsup.cbaa2272-6484-11ec-a4a1-f4f26df73d01.xml\n",
      "Image:D:\\Project\\Tensorflow\\Project OD\\pictures\\workspace\\images\\collectedimages\\thumbsup\\thumbsup.cbaa2272-6484-11ec-a4a1-f4f26df73d01.jpg -> Annotation:D:\\Project\\Tensorflow\\Project OD\\pictures\\workspace\\images\\collectedimages\\thumbsup\\thumbsup.cbaa2272-6484-11ec-a4a1-f4f26df73d01.xml\n"
     ]
    },
    {
     "name": "stderr",
     "output_type": "stream",
     "text": [
      "labelImg.py:965: DeprecationWarning: an integer is required (got type float).  Implicit conversion to integers using __int__ is deprecated, and may be removed in a future version of Python.\n",
      "  bar.setValue(bar.value() + bar.singleStep() * units)\n"
     ]
    }
   ],
   "source": [
    "!cd {LABELIMG_PATH} && python labelImg.py"
   ]
  },
  {
   "cell_type": "code",
   "execution_count": 15,
   "id": "256fad3b",
   "metadata": {},
   "outputs": [],
   "source": [
    "TRAIN_PATH = os.path.join('pictures', 'workspace', 'images', 'train')\n",
    "TEST_PATH = os.path.join('pictures', 'workspace', 'images', 'test')\n",
    "ARCHIVE_PATH = os.path.join('pictures', 'workspace', 'images', 'archive.tar.gz')"
   ]
  },
  {
   "cell_type": "code",
   "execution_count": null,
   "id": "824e62d0",
   "metadata": {},
   "outputs": [],
   "source": []
  }
 ],
 "metadata": {
  "kernelspec": {
   "display_name": "tensorflow",
   "language": "python",
   "name": "tensorflow"
  },
  "language_info": {
   "codemirror_mode": {
    "name": "ipython",
    "version": 3
   },
   "file_extension": ".py",
   "mimetype": "text/x-python",
   "name": "python",
   "nbconvert_exporter": "python",
   "pygments_lexer": "ipython3",
   "version": "3.8.10"
  }
 },
 "nbformat": 4,
 "nbformat_minor": 5
}
